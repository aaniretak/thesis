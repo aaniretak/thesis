{
 "cells": [
  {
   "cell_type": "code",
   "execution_count": 2,
   "metadata": {},
   "outputs": [],
   "source": [
    "import numpy as np\n",
    "import PIL.Image as Image # Pillow\n",
    "import os\n",
    "import tracemalloc\n",
    "from time import process_time\n",
    "import math"
   ]
  },
  {
   "cell_type": "code",
   "execution_count": 1,
   "metadata": {},
   "outputs": [],
   "source": [
    "def load_values(file): # Opening the text file and saving to the corresponding lists.\n",
    "    val_groundtruth = []\n",
    "    with open(file, 'r') as f:\n",
    "        val_set = f.read().splitlines()\n",
    "    for line in val_set:\n",
    "        # Image ground truth.\n",
    "        ground_truth = line.split(' ')[1]\n",
    "        val_groundtruth.append(int(ground_truth))\n",
    "    return val_groundtruth\n"
   ]
  },
  {
   "cell_type": "code",
   "execution_count": 3,
   "metadata": {},
   "outputs": [],
   "source": [
    "# Image Preprocessing for classification\n",
    "def preprocessing(image, image_shape): # Inputs loaded image, desired image dimensions.\n",
    "    input = image.resize(image_shape) # Resizing.\n",
    "    input = np.array(input)/255.0 # Color range [0,1].\n",
    "    if(input.shape != (image_shape[0],image_shape[1],3)): # In case the image is black and white.\n",
    "        input = np.repeat(input[:, :, np.newaxis], 3, axis=2) # We repeat the grayscale 3 times to get the correct dimensions.\n",
    "    input = input[np.newaxis,...] # Extra axis.\n",
    "    return input # Returns the preprocessed image"
   ]
  },
  {
   "cell_type": "code",
   "execution_count": 2,
   "metadata": {},
   "outputs": [],
   "source": [
    "def prepare_standard(im):\n",
    "    #im = Image.open(path)\n",
    "    if im.mode == 'CMYK':\n",
    "        im = im.convert('RGB')\n",
    "    width, height = im.size\n",
    "    new_height = height * 256 // min(width,height)\n",
    "    new_width = width * 256 // min(width,height)\n",
    "    im = im.resize((new_width,new_height))\n",
    "\n",
    "    left = (new_width - 224)/2\n",
    "    top = (new_height - 224)/2\n",
    "    right = (new_width + 224)/2\n",
    "    bottom = (new_height + 224)/2\n",
    "\n",
    "    im = im.crop((left, top, right, bottom))\n",
    "    input = (np.array(im))/255\n",
    "    if(input.shape != (224,224,3)): \n",
    "        input = np.repeat(input[:, :, np.newaxis], 3, axis=2) \n",
    "    #input = input[np.newaxis,...]\n",
    "    return input"
   ]
  },
  {
   "cell_type": "code",
   "execution_count": 4,
   "metadata": {},
   "outputs": [],
   "source": [
    "# Ellipse defined by the labels of DAGM\n",
    "def calc_ellipse(x, y,label):\n",
    "    # https://www.maa.org/external_archive/joma/Volume8/Kalman/General.html\n",
    "    ...\n",
    "    [semi_major, semi_minor, rotation, x_centre, y_centre] = label\n",
    "    term1 = (((x - x_centre) * np.cos(rotation)) + (\n",
    "        (y - y_centre) * np.sin(rotation)))**2\n",
    "    term2 = (((x - x_centre) * np.sin(rotation)) - (\n",
    "        (y - y_centre) * np.cos(rotation)))**2\n",
    "    ellipse = ((term1 / semi_major**2) + (term2 / semi_minor**2)) <= 1\n",
    "    return ellipse"
   ]
  },
  {
   "cell_type": "code",
   "execution_count": 5,
   "metadata": {},
   "outputs": [],
   "source": [
    "# IoU calculation\n",
    "def iou_calc(labimg, pred):\n",
    "\n",
    "    pred = np.round(np.squeeze(pred),decimals = 6).astype(dtype=bool)\n",
    "    intersection = np.logical_and(labimg, pred)\n",
    "    union = np.logical_or(labimg, pred)\n",
    "    iou_score = np.sum(intersection) / np.sum(union)\n",
    "    return iou_score"
   ]
  },
  {
   "cell_type": "code",
   "execution_count": 3,
   "metadata": {},
   "outputs": [],
   "source": [
    "def prepare(path, size):\n",
    "    im = Image.open(path)\n",
    "    im = im.convert('RGB')\n",
    "    re_size = int(round(1.14286*size))\n",
    "    \n",
    "    width, height = im.size\n",
    "    new_height = height * re_size // min(width,height)\n",
    "    new_width = width * re_size // min(width,height)\n",
    "    im = im.resize((new_width,new_height))\n",
    "\n",
    "    left = math.floor((new_width - size)/2)\n",
    "    top = math.ceil((new_height - size)/2)\n",
    "    right = math.floor((new_width + size)/2)\n",
    "    bottom = math.ceil((new_height + size)/2)\n",
    "\n",
    "\n",
    "    im = im.crop((left, top, right, bottom))\n",
    "    input = (np.array(im))/255\n",
    "    return input\n"
   ]
  }
 ],
 "metadata": {
  "interpreter": {
   "hash": "4bf7735f1ec2d00fd4695487ad6ad708baea5cbbc5c58424468c82ae75093a8e"
  },
  "kernelspec": {
   "display_name": "Python 3.7.13 ('benchmarkapp')",
   "language": "python",
   "name": "python3"
  },
  "language_info": {
   "codemirror_mode": {
    "name": "ipython",
    "version": 3
   },
   "file_extension": ".py",
   "mimetype": "text/x-python",
   "name": "python",
   "nbconvert_exporter": "python",
   "pygments_lexer": "ipython3",
   "version": "3.7.13"
  },
  "orig_nbformat": 4
 },
 "nbformat": 4,
 "nbformat_minor": 2
}
