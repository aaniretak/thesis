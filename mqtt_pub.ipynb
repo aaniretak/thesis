{
 "cells": [
  {
   "cell_type": "code",
   "execution_count": 21,
   "metadata": {},
   "outputs": [
    {
     "name": "stdout",
     "output_type": "stream",
     "text": [
      "data published \n",
      "\n"
     ]
    },
    {
     "data": {
      "text/plain": [
       "0"
      ]
     },
     "execution_count": 21,
     "metadata": {},
     "output_type": "execute_result"
    }
   ],
   "source": [
    "import paho.mqtt.client as mqtt \n",
    "from random import randrange, uniform\n",
    "import time\n",
    "from ipynb.fs.full.utilities import prepare\n",
    "\n",
    "def on_connect(client, userdata, flags, rc):\n",
    "    if rc==0:\n",
    "        client.connected_flag = True\n",
    "        print(\"connected OK Returned code=\",rc)\n",
    "    else:\n",
    "        print(\"Bad connection Returned code=\",rc)\n",
    "        client.bad_connection_flag = True\n",
    "\n",
    "def on_disconnect(client, userdata, rc):\n",
    "    print(\"Disconnected\")\n",
    "    client.connected_flag = False\n",
    "    client.disconnect_flag = True\n",
    "    client.loop_stop()  \n",
    "\n",
    "def on_publish(client,userdata,result):             #create function for callback\n",
    "    print(\"data published \\n\")\n",
    "    pass\n",
    "\n",
    "mqtt.Client.disconnect_flag = False\n",
    "mqtt.Client.bad_connection_flag = False\n",
    "mqtt.Client.connected_flag = False\n",
    "mqttBroker =\"mqtt.eclipseprojects.io\" \n",
    "\n",
    "client = mqtt.Client(\"Trasmitter-230622\", clean_session = True)\n",
    "client.on_connect = on_connect\n",
    "\n",
    "client.connect(mqttBroker, keepalive = 60) \n",
    "\n",
    "f=open('Datasets/ImageNet/ILSVRC2012_val_00000001.jpeg', \"rb\") #3.7kiB in same folder\n",
    "fileContent = f.read()\n",
    "byteArr = bytearray(fileContent)\n",
    "f.close()\n",
    "\n",
    "client.on_publish = on_publish\n",
    "client.publish(\"TEMPERATURE\", byteArr)\n",
    "client.on_disconnect = on_disconnect\n",
    "client.disconnect()"
   ]
  },
  {
   "cell_type": "code",
   "execution_count": 23,
   "metadata": {},
   "outputs": [
    {
     "name": "stdout",
     "output_type": "stream",
     "text": [
      "Help on method publish in module paho.mqtt.client:\n",
      "\n",
      "publish(topic, payload=None, qos=0, retain=False, properties=None) method of paho.mqtt.client.Client instance\n",
      "    Publish a message on a topic.\n",
      "    \n",
      "    This causes a message to be sent to the broker and subsequently from\n",
      "    the broker to any clients subscribing to matching topics.\n",
      "    \n",
      "    topic: The topic that the message should be published on.\n",
      "    payload: The actual message to send. If not given, or set to None a\n",
      "    zero length message will be used. Passing an int or float will result\n",
      "    in the payload being converted to a string representing that number. If\n",
      "    you wish to send a true int/float, use struct.pack() to create the\n",
      "    payload you require.\n",
      "    qos: The quality of service level to use.\n",
      "    retain: If set to true, the message will be set as the \"last known\n",
      "    good\"/retained message for the topic.\n",
      "    properties: (MQTT v5.0 only) the MQTT v5.0 properties to be included.\n",
      "    Use the Properties class.\n",
      "    \n",
      "    Returns a MQTTMessageInfo class, which can be used to determine whether\n",
      "    the message has been delivered (using info.is_published()) or to block\n",
      "    waiting for the message to be delivered (info.wait_for_publish()). The\n",
      "    message ID and return code of the publish() call can be found at\n",
      "    info.mid and info.rc.\n",
      "    \n",
      "    For backwards compatibility, the MQTTMessageInfo class is iterable so\n",
      "    the old construct of (rc, mid) = client.publish(...) is still valid.\n",
      "    \n",
      "    rc is MQTT_ERR_SUCCESS to indicate success or MQTT_ERR_NO_CONN if the\n",
      "    client is not currently connected.  mid is the message ID for the\n",
      "    publish request. The mid value can be used to track the publish request\n",
      "    by checking against the mid argument in the on_publish() callback if it\n",
      "    is defined.\n",
      "    \n",
      "    A ValueError will be raised if topic is None, has zero length or is\n",
      "    invalid (contains a wildcard), except if the MQTT version used is v5.0.\n",
      "    For v5.0, a zero length topic can be used when a Topic Alias has been set.\n",
      "    \n",
      "    A ValueError will be raised if qos is not one of 0, 1 or 2, or if\n",
      "    the length of the payload is greater than 268435455 bytes.\n",
      "\n"
     ]
    }
   ],
   "source": [
    "help(client.publish)"
   ]
  }
 ],
 "metadata": {
  "kernelspec": {
   "display_name": "Python 3.7.13 ('benchmarkapp')",
   "language": "python",
   "name": "python3"
  },
  "language_info": {
   "codemirror_mode": {
    "name": "ipython",
    "version": 3
   },
   "file_extension": ".py",
   "mimetype": "text/x-python",
   "name": "python",
   "nbconvert_exporter": "python",
   "pygments_lexer": "ipython3",
   "version": "3.7.13"
  },
  "orig_nbformat": 4,
  "vscode": {
   "interpreter": {
    "hash": "4bf7735f1ec2d00fd4695487ad6ad708baea5cbbc5c58424468c82ae75093a8e"
   }
  }
 },
 "nbformat": 4,
 "nbformat_minor": 2
}
