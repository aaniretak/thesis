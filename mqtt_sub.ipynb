{
 "cells": [
  {
   "cell_type": "code",
   "execution_count": 14,
   "metadata": {},
   "outputs": [
    {
     "name": "stdout",
     "output_type": "stream",
     "text": [
      "Connecting...\n",
      "Connected OK Returned code= 0\n",
      "Image Received!\n",
      "Topic: TEMPERATURE\n",
      "Image Received!\n",
      "Topic: TEMPERATURE\n"
     ]
    }
   ],
   "source": [
    "import paho.mqtt.client as mqtt\n",
    "import time\n",
    "import sys\n",
    "\n",
    "def on_message(client, userdata, message):\n",
    "    #print(\"received message: \" ,str(message.payload.decode(\"utf-8\")))\n",
    "    print(\"Image Received!\")\n",
    "    print(\"Topic: \"+ message.topic)\n",
    "    f = open(\"tmp/output.jpg\", \"wb\")  #there is a output.jpg which is different\n",
    "    f.write(message.payload)\n",
    "    f.close()\n",
    "\n",
    "def on_connect(client, userdata, flags, rc):\n",
    "    if rc==0:\n",
    "        client.connected_flag = True\n",
    "        print(\"Connected OK Returned code=\",rc)\n",
    "    else:\n",
    "        print(\"Bad connection Returned code=\",rc)\n",
    "        client.bad_connection_flag = True\n",
    "\n",
    "def on_disconnect(client, userdata, rc):\n",
    "    print(\"Disconnected\")\n",
    "    client.connected_flag = False\n",
    "    client.disconnect_flag = True\n",
    "    client.loop_stop()       \n",
    "\n",
    "mqtt.Client.disconnect_flag = False\n",
    "mqtt.Client.bad_connection_flag = False\n",
    "mqtt.Client.connected_flag = False\n",
    "mqttBroker =\"mqtt.eclipseprojects.io\"\n",
    "\n",
    "client = mqtt.Client(\"Receiver-230622\", clean_session = True)\n",
    "client.on_connect = on_connect\n",
    "client.on_disconnect = on_disconnect\n",
    "client.on_message=on_message \n",
    "\n",
    "client.connect(mqttBroker, keepalive = 60) \n",
    "\n",
    "client.loop_start()\n",
    "\n",
    "while not client.connected_flag: #wait in loop\n",
    "    print(\"Connecting...\")\n",
    "    time.sleep(1)\n",
    "\n",
    "if client.bad_connection_flag:\n",
    "    client.loop_stop()    #Stop loop\n",
    "    sys.exit()\n",
    "\n",
    "client.subscribe(\"TEMPERATURE\")\n",
    "time.sleep(10)\n",
    "client.loop_stop()\n",
    "#client.disconnect()"
   ]
  }
 ],
 "metadata": {
  "kernelspec": {
   "display_name": "Python 3.7.13 ('benchmarkapp')",
   "language": "python",
   "name": "python3"
  },
  "language_info": {
   "codemirror_mode": {
    "name": "ipython",
    "version": 3
   },
   "file_extension": ".py",
   "mimetype": "text/x-python",
   "name": "python",
   "nbconvert_exporter": "python",
   "pygments_lexer": "ipython3",
   "version": "3.7.13"
  },
  "orig_nbformat": 4,
  "vscode": {
   "interpreter": {
    "hash": "4bf7735f1ec2d00fd4695487ad6ad708baea5cbbc5c58424468c82ae75093a8e"
   }
  }
 },
 "nbformat": 4,
 "nbformat_minor": 2
}
